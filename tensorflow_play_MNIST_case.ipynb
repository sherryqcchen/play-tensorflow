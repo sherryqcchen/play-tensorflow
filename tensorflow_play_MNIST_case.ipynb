{
  "nbformat": 4,
  "nbformat_minor": 0,
  "metadata": {
    "colab": {
      "name": "tensorflow_play_MNIST case",
      "version": "0.3.2",
      "provenance": [],
      "collapsed_sections": [],
      "include_colab_link": true
    },
    "kernelspec": {
      "name": "python3",
      "display_name": "Python 3"
    }
  },
  "cells": [
    {
      "cell_type": "markdown",
      "metadata": {
        "id": "view-in-github",
        "colab_type": "text"
      },
      "source": [
        "<a href=\"https://colab.research.google.com/github/sherryqcchen/play-tensorflow/blob/master/tensorflow_play_MNIST_case.ipynb\" target=\"_parent\"><img src=\"https://colab.research.google.com/assets/colab-badge.svg\" alt=\"Open In Colab\"/></a>"
      ]
    },
    {
      "metadata": {
        "id": "slrPLYMbD3na",
        "colab_type": "text"
      },
      "cell_type": "markdown",
      "source": [
        "MNIST数据集， 将每张图的像素（28*28*) 数组展开成向量，长度是28*28=784.图片中的像素强度值介于0-1."
      ]
    },
    {
      "metadata": {
        "id": "ggur3_hyFDim",
        "colab_type": "text"
      },
      "cell_type": "markdown",
      "source": [
        "MNIST数据集是个形状为[60000,784]的张量。第一个维度是数字index。"
      ]
    },
    {
      "metadata": {
        "id": "6RaXNZMzFE_9",
        "colab_type": "text"
      },
      "cell_type": "markdown",
      "source": [
        "MNIST labels 是介于0-9的数字。"
      ]
    },
    {
      "metadata": {
        "id": "OS2vNPHmFfq9",
        "colab_type": "text"
      },
      "cell_type": "markdown",
      "source": [
        "softmax函数可以给不同的对象分配概率。"
      ]
    },
    {
      "metadata": {
        "id": "Q3NwDBf3Gi7D",
        "colab_type": "text"
      },
      "cell_type": "markdown",
      "source": [
        "非线性回归的例子："
      ]
    },
    {
      "metadata": {
        "id": "z2D1wmArGaJm",
        "colab_type": "code",
        "colab": {}
      },
      "cell_type": "code",
      "source": [
        "import tensorflow as tf\n",
        "import numpy as np\n",
        "import matplotlib.pyplot as plt"
      ],
      "execution_count": 0,
      "outputs": []
    },
    {
      "metadata": {
        "id": "NdgGwNNNEWhC",
        "colab_type": "code",
        "outputId": "c45b33f3-ae5d-4a0d-d7e6-c8970ffc4019",
        "colab": {
          "base_uri": "https://localhost:8080/",
          "height": 347
        }
      },
      "cell_type": "code",
      "source": [
        "#numpy 生产200个随机点\n",
        "x_data= np.linspace(-0.5,0.5,200)[:,np.newaxis]\n",
        "noise = np.random.normal(0,0.02,x_data.shape)#生成随机值与x_data的形状一样\n",
        "y_data= np.square(x_data) + noise\n",
        "\n",
        "#定义placeholder\n",
        "x = tf.placeholder(tf.float32, [None, 1]) \n",
        "y = tf.placeholder(tf.float32, [None, 1])\n",
        "\n",
        "#构造神经网络\n",
        "\n",
        "#定義中間層，總共10個神經元\n",
        "Weights_L1 = tf.Variable(tf.random_normal([1, 10])) #定義權值變數，並且初始化為 normal 1*10\n",
        "Biases_L1 = tf.Variable(tf.zeros([1,10])) #定義bias變數，並且初始化為0矩陣\n",
        "Wx_plus_b_L1 = tf.matmul(x, Weights_L1) + Biases_L1  # Weights_L1*x + Biases_L1\n",
        "L1 = tf.nn.tanh(Wx_plus_b_L1) #中間層的輸出 (激活函數為 雙曲正切函數)\n",
        "\n",
        "#定義輸出層，總共1個神經元\n",
        "Weights_L2 = tf.Variable(tf.random_normal([10,1]))\n",
        "Biases_L2 = tf.Variable(tf.zeros([1,1]))\n",
        "Wx_plus_b_L2 = tf.matmul(L1, Weights_L2) + Biases_L2  # Weights_L2*L1 + Biases_L2 (輸出層的輸入，是中間層的輸出L1)\n",
        "prediction = tf.nn.tanh(Wx_plus_b_L2)\n",
        "\n",
        "#二次代價函數 : loss = mean((y - prediction)^2)\n",
        "loss = tf.reduce_mean(tf.square(y_data - prediction))\n",
        "\n",
        "#梯度下降法训练  Gradient desent method  (learning rate = 0.1)\n",
        "gd = tf.train.GradientDescentOptimizer(0.1)\n",
        "#最小化 代價函數 (operator)\n",
        "train = gd.minimize(loss)\n",
        "\n",
        "#初始化變數 operator\n",
        "init = tf.global_variables_initializer()\n",
        "\n",
        "#開始training\n",
        "with tf.Session() as sess:\n",
        "    sess.run(init) #變數初始化\n",
        "    feed_dict = {x : x_data, y : y_data} #訓練時 要傳入的 feed 的字典\n",
        "    for _ in range(5000):\n",
        "        sess.run(train, feed_dict)   \n",
        "    #獲得預測值\n",
        "    feed_pre_dict = {x : x_data} #觀察預測值時 要傳入的 feed 的字典\n",
        "    pv = sess.run(prediction, feed_pre_dict) #預測值\n",
        "    \n",
        "    plt.figure()\n",
        "    plt.scatter(x_data, y_data)\n",
        "    plt.plot(x_data, pv, 'r-', lw=5)\n",
        "    plt.show()"
      ],
      "execution_count": 0,
      "outputs": [
        {
          "output_type": "display_data",
          "data": {
            "image/png": "[encoded data removed]",
            "text/plain": [
              "<matplotlib.figure.Figure at 0x7fa8b58506d8>"
            ]
          },
          "metadata": {
            "tags": []
          }
        }
      ]
    },
    {
      "metadata": {
        "id": "xVJwQX92LUDA",
        "colab_type": "text"
      },
      "cell_type": "markdown",
      "source": [
        "MNIST数据集分类-EASY"
      ]
    },
    {
      "metadata": {
        "id": "AUpFhXSMLcRE",
        "colab_type": "code",
        "colab": {}
      },
      "cell_type": "code",
      "source": [
        "import tensorflow as tf\n",
        "from tensorflow.examples.tutorials.mnist import input_data\n"
      ],
      "execution_count": 0,
      "outputs": []
    },
    {
      "metadata": {
        "id": "mha50mJcLgrL",
        "colab_type": "code",
        "outputId": "50e17e51-ec9d-4bab-ac2c-101feeb3cb47",
        "colab": {
          "base_uri": "https://localhost:8080/",
          "height": 544
        }
      },
      "cell_type": "code",
      "source": [
        "#載入數據集\n",
        "mnist = input_data.read_data_sets(\"MNIST_data\", one_hot = True) #這步有時候會失效,网络问题可能会影响\n",
        "\n",
        "#因為數據集很大，故我們要用stochastic gradient descent，會將資料集分批次，並不會一次將所有資料拿來train (計算量很大)\n",
        "#每一個批次的大小，自己定义\n",
        "batch_size = 100 \n",
        "\n",
        "#計算一共有多少批次\n",
        "n_batch = mnist.train.num_examples // batch_size  # // 在python中表示取商\n",
        "\n",
        "#定義兩個placeholder，目的在於 train時候透過 feed 傳入 x_data 與 y_data\n",
        "x = tf.placeholder(tf.float32, [None, 784]) # 28 * 28 = 784\n",
        "y = tf.placeholder(tf.float32, [None, 10]) #輸出層，有十個神經元，每個神經元有一個激活值，十個激活值排成一個 1*10的向量"
      ],
      "execution_count": 0,
      "outputs": [
        {
          "output_type": "stream",
          "text": [
            "WARNING:tensorflow:From <ipython-input-7-330a97ec673b>:1: read_data_sets (from tensorflow.contrib.learn.python.learn.datasets.mnist) is deprecated and will be removed in a future version.\n",
            "Instructions for updating:\n",
            "Please use alternatives such as official/mnist/dataset.py from tensorflow/models.\n",
            "WARNING:tensorflow:From /usr/local/lib/python3.6/dist-packages/tensorflow/contrib/learn/python/learn/datasets/mnist.py:260: maybe_download (from tensorflow.contrib.learn.python.learn.datasets.base) is deprecated and will be removed in a future version.\n",
            "Instructions for updating:\n",
            "Please write your own downloading logic.\n",
            "WARNING:tensorflow:From /usr/local/lib/python3.6/dist-packages/tensorflow/contrib/learn/python/learn/datasets/base.py:252: _internal_retry.<locals>.wrap.<locals>.wrapped_fn (from tensorflow.contrib.learn.python.learn.datasets.base) is deprecated and will be removed in a future version.\n",
            "Instructions for updating:\n",
            "Please use urllib or similar directly.\n",
            "Successfully downloaded train-images-idx3-ubyte.gz 9912422 bytes.\n",
            "WARNING:tensorflow:From /usr/local/lib/python3.6/dist-packages/tensorflow/contrib/learn/python/learn/datasets/mnist.py:262: extract_images (from tensorflow.contrib.learn.python.learn.datasets.mnist) is deprecated and will be removed in a future version.\n",
            "Instructions for updating:\n",
            "Please use tf.data to implement this functionality.\n",
            "Extracting MNIST_data/train-images-idx3-ubyte.gz\n",
            "Successfully downloaded train-labels-idx1-ubyte.gz 28881 bytes.\n",
            "WARNING:tensorflow:From /usr/local/lib/python3.6/dist-packages/tensorflow/contrib/learn/python/learn/datasets/mnist.py:267: extract_labels (from tensorflow.contrib.learn.python.learn.datasets.mnist) is deprecated and will be removed in a future version.\n",
            "Instructions for updating:\n",
            "Please use tf.data to implement this functionality.\n",
            "Extracting MNIST_data/train-labels-idx1-ubyte.gz\n",
            "WARNING:tensorflow:From /usr/local/lib/python3.6/dist-packages/tensorflow/contrib/learn/python/learn/datasets/mnist.py:110: dense_to_one_hot (from tensorflow.contrib.learn.python.learn.datasets.mnist) is deprecated and will be removed in a future version.\n",
            "Instructions for updating:\n",
            "Please use tf.one_hot on tensors.\n",
            "Successfully downloaded t10k-images-idx3-ubyte.gz 1648877 bytes.\n",
            "Extracting MNIST_data/t10k-images-idx3-ubyte.gz\n",
            "Successfully downloaded t10k-labels-idx1-ubyte.gz 4542 bytes.\n",
            "Extracting MNIST_data/t10k-labels-idx1-ubyte.gz\n",
            "WARNING:tensorflow:From /usr/local/lib/python3.6/dist-packages/tensorflow/contrib/learn/python/learn/datasets/mnist.py:290: DataSet.__init__ (from tensorflow.contrib.learn.python.learn.datasets.mnist) is deprecated and will be removed in a future version.\n",
            "Instructions for updating:\n",
            "Please use alternatives such as official/mnist/dataset.py from tensorflow/models.\n"
          ],
          "name": "stdout"
        }
      ]
    },
    {
      "metadata": {
        "id": "1Ursef9yMawY",
        "colab_type": "code",
        "outputId": "79ba2623-ae0b-4231-c2fa-ebb5c25c0052",
        "colab": {
          "base_uri": "https://localhost:8080/",
          "height": 384
        }
      },
      "cell_type": "code",
      "source": [
        "#建立一個簡單的神經網路 (只有輸出層，總共10個神經元)\n",
        "W = tf.Variable(tf.zeros([784, 10]))\n",
        "b = tf.Variable(tf.zeros([1, 10]))\n",
        "prediction = tf.nn.softmax(tf.matmul(x, W) + b)\n",
        "\n",
        "#二次代價函數 : loss = mean((y - prediction)^2)\n",
        "loss = tf.reduce_mean(tf.square(y - prediction))\n",
        "\n",
        "#Gradient desent method  (learning rate = 0.2)\n",
        "gd = tf.train.GradientDescentOptimizer(0.2)\n",
        "\n",
        "#最小化 代價函數 (operator)\n",
        "train = gd.minimize(loss)\n",
        "\n",
        "#初始化變數 operator\n",
        "init = tf.global_variables_initializer()\n",
        "\n",
        "#求准确率的方法：如果y標籤最大的值，與prediction標籤最大的值相等，則回傳true\n",
        "#結果存在一個 boolean 的變數中\n",
        "correct_prediction = tf.equal(tf.argmax(y, 1), tf.argmax(prediction, 1)) #argmax 回傳一維張量中最大的值，所在的位置\n",
        "\n",
        "#求準確率\n",
        "#轉換格式，boolean 轉成 float，接著在取平均值，得到准确率\n",
        "accuracy = tf.reduce_mean(tf.cast(correct_prediction, tf.float32)) \n",
        "\n",
        "#開始training\n",
        "with tf.Session() as sess:\n",
        "    sess.run(init)\n",
        "    for epoch in range(21): #總共疊代21次 (outer loop)，每个周期中加循环\n",
        "        #每一次 outer loop 不一次拿所有的數據集，來做 Gradient desent，這就是 stochastic gradient descent\n",
        "        for batch in range(n_batch): #每一個 outer loop 疊代 n_batch 個批次\n",
        "            #利用 train.next_batch 函數，讀取一個batch的 x, y 存給 batch_xs, batch_ys\n",
        "            batch_xs, batch_ys = mnist.train.next_batch(batch_size) #每次获得100张图片，下一次获得101-200张图片...\n",
        "            feed_dict = {x: batch_xs, y: batch_ys}  #拿來feed 的 dictionary\n",
        "            sess.run(train, feed_dict)\n",
        "        #每做完一次 outer loop 計算一次準確率\n",
        "        outer_loop_feed_dict = {x: mnist.test.images, y: mnist.test.labels} #testing data feed dictionary\n",
        "        acc = sess.run(accuracy, outer_loop_feed_dict)\n",
        "        print(\"Iter =\" + str(epoch) + \", Testing Accuracy =\" + str(acc)) #打印周期数+准确率"
      ],
      "execution_count": 0,
      "outputs": [
        {
          "output_type": "stream",
          "text": [
            "Iter =0, Testing Accuracy =0.8319\n",
            "Iter =1, Testing Accuracy =0.8707\n",
            "Iter =2, Testing Accuracy =0.8829\n",
            "Iter =3, Testing Accuracy =0.8879\n",
            "Iter =4, Testing Accuracy =0.8945\n",
            "Iter =5, Testing Accuracy =0.8977\n",
            "Iter =6, Testing Accuracy =0.9\n",
            "Iter =7, Testing Accuracy =0.9013\n",
            "Iter =8, Testing Accuracy =0.9042\n",
            "Iter =9, Testing Accuracy =0.9053\n",
            "Iter =10, Testing Accuracy =0.9062\n",
            "Iter =11, Testing Accuracy =0.9077\n",
            "Iter =12, Testing Accuracy =0.9072\n",
            "Iter =13, Testing Accuracy =0.9093\n",
            "Iter =14, Testing Accuracy =0.9106\n",
            "Iter =15, Testing Accuracy =0.9113\n",
            "Iter =16, Testing Accuracy =0.9112\n",
            "Iter =17, Testing Accuracy =0.9119\n",
            "Iter =18, Testing Accuracy =0.9132\n",
            "Iter =19, Testing Accuracy =0.9135\n",
            "Iter =20, Testing Accuracy =0.9134\n"
          ],
          "name": "stdout"
        }
      ]
    },
    {
      "metadata": {
        "id": "iQfKg93aPOnI",
        "colab_type": "text"
      },
      "cell_type": "markdown",
      "source": [
        "优化，提高准确率到95%：批次大小、增加隐藏层（神经元数量）、初始化方式、代价函数（使用交叉熵？）、优化方法（其他方式？）、训练次数（收敛效果）"
      ]
    },
    {
      "metadata": {
        "id": "rSPQcOqSP4d8",
        "colab_type": "text"
      },
      "cell_type": "markdown",
      "source": [
        "交叉商loss 函數 (cross entropy loss function): 如果输出神经元是线性的，则二次代价函数是合适的选择；如果输出神经元是S型函数，则交叉熵函数比较适用。"
      ]
    },
    {
      "metadata": {
        "id": "0cmixSMsPIYP",
        "colab_type": "code",
        "outputId": "0921bfaa-ce80-43f0-ad63-a0f6014e3ea2",
        "colab": {
          "base_uri": "https://localhost:8080/",
          "height": 509
        }
      },
      "cell_type": "code",
      "source": [
        "#載入數據集\n",
        "mnist = input_data.read_data_sets(\"MNIST_data\", one_hot = True) \n",
        "\n",
        "#每一個批次的大小\n",
        "batch_size = 100 \n",
        "\n",
        "#計算一共有多少批次\n",
        "n_batch = mnist.train.num_examples // batch_size \n",
        "\n",
        "#定義兩個placeholder，目的在於 train時候透過 feed 傳入 x_data 與 y_data\n",
        "x = tf.placeholder(tf.float32, [None, 784]) \n",
        "y = tf.placeholder(tf.float32, [None, 10]) \n",
        "\n",
        "#建立一個神經網路\n",
        "#隱藏層\n",
        "W1 = tf.Variable(tf.random_normal([784, 15]))\n",
        "b1 = tf.Variable(tf.zeros([1, 15]))\n",
        "L1 = tf.nn.softmax(tf.matmul(x, W1) + b1) #隱藏層的輸出\n",
        "\n",
        "#輸出層\n",
        "W = tf.Variable(tf.zeros([15, 10]))\n",
        "b = tf.Variable(tf.zeros([1, 10]))\n",
        "prediction = tf.nn.softmax(tf.matmul(L1, W) + b)\n",
        "\n",
        "\n",
        "#二次代價函數 : loss = mean((y - prediction)^2)\n",
        "#loss = tf.reduce_mean(tf.square(y - prediction))\n",
        "\n",
        "#交叉熵代价函数：\n",
        "loss = tf.reduce_mean(tf.nn.softmax_cross_entropy_with_logits(labels = y, logits = prediction))\n",
        "\n",
        "#Gradient desent method \n",
        "gd = tf.train.AdagradOptimizer(0.31)\n",
        "#gd = tf.train.GradientDescentOptimizer(0.2)\n",
        "\n",
        "#最小化 代價函數 (operator) \n",
        "train = gd.minimize(loss)\n",
        "\n",
        "#初始化變數 operator\n",
        "init = tf.global_variables_initializer()\n",
        "\n",
        "\n",
        "#結果存在一個 boolean 的變數中\n",
        "correct_prediction = tf.equal(tf.argmax(y, 1), tf.argmax(prediction, 1)) #argmax 回傳一維張量中最大的值，所在的位置\n",
        "\n",
        "#求準確率\n",
        "accuracy = tf.reduce_mean(tf.cast(correct_prediction, tf.float32)) \n",
        "\n",
        "#開始training\n",
        "with tf.Session() as sess:\n",
        "    sess.run(init)\n",
        "    for epoch in range(300): \n",
        "       \n",
        "        for batch in range(n_batch): #每一個 outer loop 疊代 n_batch 個批次\n",
        "\n",
        "            batch_xs, batch_ys = mnist.train.next_batch(batch_size)\n",
        "            feed_dict = {x: batch_xs, y: batch_ys} \n",
        "            sess.run(train, feed_dict)\n",
        "        if epoch % 20 == 0:\n",
        "            #計算一次準確率\n",
        "            outer_loop_feed_dict = {x: mnist.test.images, y: mnist.test.labels} #testing data feed dictionary\n",
        "            acc = sess.run(accuracy, outer_loop_feed_dict)\n",
        "            print(\"Iter=\" + str(epoch) + \", Testing Accuracy=\" + str(acc))"
      ],
      "execution_count": 0,
      "outputs": [
        {
          "output_type": "stream",
          "text": [
            "Extracting MNIST_data/train-images-idx3-ubyte.gz\n",
            "Extracting MNIST_data/train-labels-idx1-ubyte.gz\n",
            "Extracting MNIST_data/t10k-images-idx3-ubyte.gz\n",
            "Extracting MNIST_data/t10k-labels-idx1-ubyte.gz\n",
            "WARNING:tensorflow:From <ipython-input-10-719ebb1d49f9>:29: softmax_cross_entropy_with_logits (from tensorflow.python.ops.nn_ops) is deprecated and will be removed in a future version.\n",
            "Instructions for updating:\n",
            "\n",
            "Future major versions of TensorFlow will allow gradients to flow\n",
            "into the labels input on backprop by default.\n",
            "\n",
            "See `tf.nn.softmax_cross_entropy_with_logits_v2`.\n",
            "\n",
            "Iter=0, Testing Accuracy=0.3469\n",
            "Iter=20, Testing Accuracy=0.6612\n",
            "Iter=40, Testing Accuracy=0.7406\n",
            "Iter=60, Testing Accuracy=0.8244\n",
            "Iter=80, Testing Accuracy=0.8304\n",
            "Iter=100, Testing Accuracy=0.8319\n",
            "Iter=120, Testing Accuracy=0.8323\n",
            "Iter=140, Testing Accuracy=0.8337\n",
            "Iter=160, Testing Accuracy=0.8344\n",
            "Iter=180, Testing Accuracy=0.8354\n",
            "Iter=200, Testing Accuracy=0.8354\n",
            "Iter=220, Testing Accuracy=0.8358\n",
            "Iter=240, Testing Accuracy=0.8359\n",
            "Iter=260, Testing Accuracy=0.8356\n",
            "Iter=280, Testing Accuracy=0.8355\n"
          ],
          "name": "stdout"
        }
      ]
    },
    {
      "metadata": {
        "id": "aPzsxgE0WODC",
        "colab_type": "text"
      },
      "cell_type": "markdown",
      "source": [
        "Dropout：在訓練神經網路的時候，對於不一樣的訓練樣本，遮蔽隱藏層的一些神經元，可以減低 overfitting 的可能\n",
        "以下是一個沒有 Dropout的例子 (keep_prob = 1.0)， Training Accuracy 比 Test Accuracy 準確許多\n",
        "也就是說，這個神經網路已經 Overfitting。\n",
        "使用后Dropout后，准确率收敛速度变慢，避免出现过拟合的情况。"
      ]
    },
    {
      "metadata": {
        "id": "v58ujdk_d5_8",
        "colab_type": "text"
      },
      "cell_type": "markdown",
      "source": [
        "此Case中，还改变成为AdagradOptimizer"
      ]
    },
    {
      "metadata": {
        "id": "KxI_q5QjWNGK",
        "colab_type": "code",
        "outputId": "0d091a40-7f72-4432-ee3d-906b54c64b88",
        "colab": {
          "base_uri": "https://localhost:8080/",
          "height": 1498
        }
      },
      "cell_type": "code",
      "source": [
        "#載入數據集\n",
        "mnist = input_data.read_data_sets(\"MNIST_data\", one_hot = True) \n",
        "\n",
        "#每一個批次的大小\n",
        "batch_size = 100 \n",
        "\n",
        "#計算一共有多少批次\n",
        "n_batch = mnist.train.num_examples // batch_size \n",
        "\n",
        "#定義兩個placeholder，目的在於 train時候透過 feed 傳入 x_data 與 y_data\n",
        "x = tf.placeholder(tf.float32, [None, 784]) \n",
        "y = tf.placeholder(tf.float32, [None, 10]) \n",
        "keep_prob = tf.placeholder(tf.float32) #用來 dropout 的機率\n",
        "\n",
        "#建立一個神經網路\n",
        "\n",
        "#增加隐藏层，可能出现过拟合。\n",
        "#隱藏層1\n",
        "W1 = tf.Variable(tf.truncated_normal([784, 2000], stddev=0.1))\n",
        "b1 = tf.Variable(tf.zeros([2000]))\n",
        "L1 = tf.nn.tanh(tf.matmul(x, W1) + b1)\n",
        "L1_dropout = tf.nn.dropout(L1, keep_prob)\n",
        "\n",
        "\n",
        "#隱藏層2\n",
        "W2 = tf.Variable(tf.truncated_normal([2000, 2000], stddev=0.1))\n",
        "b2 = tf.Variable(tf.zeros([2000]))\n",
        "L2 = tf.nn.tanh(tf.matmul(L1_dropout, W2) + b2)\n",
        "L2_dropout = tf.nn.dropout(L2, keep_prob)\n",
        "\n",
        "#隱藏層3\n",
        "W3 = tf.Variable(tf.truncated_normal([2000, 1000], stddev=0.1))\n",
        "b3 = tf.Variable(tf.zeros([1000]))\n",
        "L3 = tf.nn.tanh(tf.matmul(L2_dropout, W3) + b3)\n",
        "L3_dropout = tf.nn.dropout(L3, keep_prob)\n",
        "\n",
        "#輸出層\n",
        "W4 = tf.Variable(tf.truncated_normal([1000, 10], stddev=0.1))\n",
        "b4 = tf.Variable(tf.zeros([10]))\n",
        "prediction = tf.nn.tanh(tf.matmul(L3_dropout, W4) + b4)\n",
        "\n",
        "#代價函數 : loss = mean((y - prediction)^2)\n",
        "loss = tf.reduce_mean(tf.nn.softmax_cross_entropy_with_logits(labels = y, logits = prediction))\n",
        "\n",
        "#Gradient desent method \n",
        "gd = tf.train.AdagradOptimizer(0.31)\n",
        "#gd = tf.train.GradientDescentOptimizer(0.2)\n",
        "\n",
        "#最小化 代價函數 (operator)\n",
        "train = gd.minimize(loss)\n",
        "\n",
        "#初始化變數 operator\n",
        "init = tf.global_variables_initializer()\n",
        "\n",
        "\n",
        "#結果存在一個 boolean 的變數中\n",
        "correct_prediction = tf.equal(tf.argmax(y, 1), tf.argmax(prediction, 1)) #argmax 回傳一維張量中最大的值，所在的位置\n",
        "\n",
        "#求準確率\n",
        "accuracy = tf.reduce_mean(tf.cast(correct_prediction, tf.float32)) \n",
        "\n",
        "#開始training\n",
        "with tf.Session() as sess:\n",
        "    sess.run(init)\n",
        "    for epoch in range(21): \n",
        "       \n",
        "        for batch in range(n_batch): #每一個 outer loop 疊代 n_batch 個批次\n",
        "\n",
        "            batch_xs, batch_ys = mnist.train.next_batch(batch_size)\n",
        "            feed_dict = {x: batch_xs, y: batch_ys, keep_prob: 0.7} \n",
        "            sess.run(train, feed_dict)\n",
        "        #計算一次準確率\n",
        "        train_feed_dict = {x: mnist.train.images, y: mnist.train.labels, keep_prob: 1.0} #train data feed dictionary\n",
        "        train_acc = sess.run(accuracy, train_feed_dict)\n",
        "        test_feed_dict = {x: mnist.test.images, y: mnist.test.labels, keep_prob: 1.0} #testing data feed dictionary\n",
        "        test_acc = sess.run(accuracy, test_feed_dict)          \n",
        "        print(\"Iter=\" + str(epoch) + \", Training Accuracy=\" + str(train_acc) + \", Testing Accuracy=\" + str(test_acc))"
      ],
      "execution_count": 0,
      "outputs": [
        {
          "output_type": "stream",
          "text": [
            "Extracting MNIST_data/train-images-idx3-ubyte.gz\n",
            "Extracting MNIST_data/train-labels-idx1-ubyte.gz\n",
            "Extracting MNIST_data/t10k-images-idx3-ubyte.gz\n",
            "Extracting MNIST_data/t10k-labels-idx1-ubyte.gz\n",
            "Iter=0, Training Accuracy=0.9212546, Testing Accuracy=0.9195\n",
            "Iter=1, Training Accuracy=0.9521818, Testing Accuracy=0.9508\n",
            "Iter=2, Training Accuracy=0.95870906, Testing Accuracy=0.9554\n",
            "Iter=3, Training Accuracy=0.9609454, Testing Accuracy=0.9543\n",
            "Iter=4, Training Accuracy=0.9699636, Testing Accuracy=0.9626\n",
            "Iter=5, Training Accuracy=0.95247275, Testing Accuracy=0.9425\n",
            "Iter=6, Training Accuracy=0.9742727, Testing Accuracy=0.965\n",
            "Iter=7, Training Accuracy=0.9753818, Testing Accuracy=0.9644\n",
            "Iter=8, Training Accuracy=0.9725636, Testing Accuracy=0.9647\n",
            "Iter=9, Training Accuracy=0.9825636, Testing Accuracy=0.9721\n",
            "Iter=10, Training Accuracy=0.9805818, Testing Accuracy=0.9694\n",
            "Iter=11, Training Accuracy=0.98047274, Testing Accuracy=0.9685\n",
            "Iter=12, Training Accuracy=0.9848, Testing Accuracy=0.9721\n",
            "Iter=13, Training Accuracy=0.98496366, Testing Accuracy=0.973\n",
            "Iter=14, Training Accuracy=0.98441815, Testing Accuracy=0.9717\n",
            "Iter=15, Training Accuracy=0.9876364, Testing Accuracy=0.9745\n",
            "Iter=16, Training Accuracy=0.9876909, Testing Accuracy=0.973\n",
            "Iter=17, Training Accuracy=0.9846, Testing Accuracy=0.9678\n",
            "Iter=18, Training Accuracy=0.9889455, Testing Accuracy=0.9751\n",
            "Iter=19, Training Accuracy=0.98954546, Testing Accuracy=0.9747\n",
            "Iter=20, Training Accuracy=0.99076366, Testing Accuracy=0.9755\n",
            "Iter=21, Training Accuracy=0.98858184, Testing Accuracy=0.9745\n",
            "Iter=22, Training Accuracy=0.99054545, Testing Accuracy=0.9767\n",
            "Iter=23, Training Accuracy=0.99274546, Testing Accuracy=0.9776\n",
            "Iter=24, Training Accuracy=0.9937091, Testing Accuracy=0.978\n",
            "Iter=25, Training Accuracy=0.99374545, Testing Accuracy=0.9783\n"
          ],
          "name": "stdout"
        },
        {
          "output_type": "error",
          "ename": "KeyboardInterrupt",
          "evalue": "ignored",
          "traceback": [
            "\u001b[0;31m---------------------------------------------------------------------------\u001b[0m",
            "\u001b[0;31mKeyboardInterrupt\u001b[0m                         Traceback (most recent call last)",
            "\u001b[0;32m<ipython-input-11-f4186f2c7199>\u001b[0m in \u001b[0;36m<module>\u001b[0;34m()\u001b[0m\n\u001b[1;32m     67\u001b[0m             \u001b[0mbatch_xs\u001b[0m\u001b[0;34m,\u001b[0m \u001b[0mbatch_ys\u001b[0m \u001b[0;34m=\u001b[0m \u001b[0mmnist\u001b[0m\u001b[0;34m.\u001b[0m\u001b[0mtrain\u001b[0m\u001b[0;34m.\u001b[0m\u001b[0mnext_batch\u001b[0m\u001b[0;34m(\u001b[0m\u001b[0mbatch_size\u001b[0m\u001b[0;34m)\u001b[0m\u001b[0;34m\u001b[0m\u001b[0;34m\u001b[0m\u001b[0m\n\u001b[1;32m     68\u001b[0m             \u001b[0mfeed_dict\u001b[0m \u001b[0;34m=\u001b[0m \u001b[0;34m{\u001b[0m\u001b[0mx\u001b[0m\u001b[0;34m:\u001b[0m \u001b[0mbatch_xs\u001b[0m\u001b[0;34m,\u001b[0m \u001b[0my\u001b[0m\u001b[0;34m:\u001b[0m \u001b[0mbatch_ys\u001b[0m\u001b[0;34m,\u001b[0m \u001b[0mkeep_prob\u001b[0m\u001b[0;34m:\u001b[0m \u001b[0;36m1.0\u001b[0m\u001b[0;34m}\u001b[0m\u001b[0;34m\u001b[0m\u001b[0;34m\u001b[0m\u001b[0m\n\u001b[0;32m---> 69\u001b[0;31m             \u001b[0msess\u001b[0m\u001b[0;34m.\u001b[0m\u001b[0mrun\u001b[0m\u001b[0;34m(\u001b[0m\u001b[0mtrain\u001b[0m\u001b[0;34m,\u001b[0m \u001b[0mfeed_dict\u001b[0m\u001b[0;34m)\u001b[0m\u001b[0;34m\u001b[0m\u001b[0;34m\u001b[0m\u001b[0m\n\u001b[0m\u001b[1;32m     70\u001b[0m         \u001b[0;31m#計算一次準確率\u001b[0m\u001b[0;34m\u001b[0m\u001b[0;34m\u001b[0m\u001b[0;34m\u001b[0m\u001b[0m\n\u001b[1;32m     71\u001b[0m         \u001b[0mtrain_feed_dict\u001b[0m \u001b[0;34m=\u001b[0m \u001b[0;34m{\u001b[0m\u001b[0mx\u001b[0m\u001b[0;34m:\u001b[0m \u001b[0mmnist\u001b[0m\u001b[0;34m.\u001b[0m\u001b[0mtrain\u001b[0m\u001b[0;34m.\u001b[0m\u001b[0mimages\u001b[0m\u001b[0;34m,\u001b[0m \u001b[0my\u001b[0m\u001b[0;34m:\u001b[0m \u001b[0mmnist\u001b[0m\u001b[0;34m.\u001b[0m\u001b[0mtrain\u001b[0m\u001b[0;34m.\u001b[0m\u001b[0mlabels\u001b[0m\u001b[0;34m,\u001b[0m \u001b[0mkeep_prob\u001b[0m\u001b[0;34m:\u001b[0m \u001b[0;36m1.0\u001b[0m\u001b[0;34m}\u001b[0m \u001b[0;31m#train data feed dictionary\u001b[0m\u001b[0;34m\u001b[0m\u001b[0;34m\u001b[0m\u001b[0m\n",
            "\u001b[0;32m/usr/local/lib/python3.6/dist-packages/tensorflow/python/client/session.py\u001b[0m in \u001b[0;36mrun\u001b[0;34m(self, fetches, feed_dict, options, run_metadata)\u001b[0m\n\u001b[1;32m    927\u001b[0m     \u001b[0;32mtry\u001b[0m\u001b[0;34m:\u001b[0m\u001b[0;34m\u001b[0m\u001b[0;34m\u001b[0m\u001b[0m\n\u001b[1;32m    928\u001b[0m       result = self._run(None, fetches, feed_dict, options_ptr,\n\u001b[0;32m--> 929\u001b[0;31m                          run_metadata_ptr)\n\u001b[0m\u001b[1;32m    930\u001b[0m       \u001b[0;32mif\u001b[0m \u001b[0mrun_metadata\u001b[0m\u001b[0;34m:\u001b[0m\u001b[0;34m\u001b[0m\u001b[0;34m\u001b[0m\u001b[0m\n\u001b[1;32m    931\u001b[0m         \u001b[0mproto_data\u001b[0m \u001b[0;34m=\u001b[0m \u001b[0mtf_session\u001b[0m\u001b[0;34m.\u001b[0m\u001b[0mTF_GetBuffer\u001b[0m\u001b[0;34m(\u001b[0m\u001b[0mrun_metadata_ptr\u001b[0m\u001b[0;34m)\u001b[0m\u001b[0;34m\u001b[0m\u001b[0;34m\u001b[0m\u001b[0m\n",
            "\u001b[0;32m/usr/local/lib/python3.6/dist-packages/tensorflow/python/client/session.py\u001b[0m in \u001b[0;36m_run\u001b[0;34m(self, handle, fetches, feed_dict, options, run_metadata)\u001b[0m\n\u001b[1;32m   1150\u001b[0m     \u001b[0;32mif\u001b[0m \u001b[0mfinal_fetches\u001b[0m \u001b[0;32mor\u001b[0m \u001b[0mfinal_targets\u001b[0m \u001b[0;32mor\u001b[0m \u001b[0;34m(\u001b[0m\u001b[0mhandle\u001b[0m \u001b[0;32mand\u001b[0m \u001b[0mfeed_dict_tensor\u001b[0m\u001b[0;34m)\u001b[0m\u001b[0;34m:\u001b[0m\u001b[0;34m\u001b[0m\u001b[0;34m\u001b[0m\u001b[0m\n\u001b[1;32m   1151\u001b[0m       results = self._do_run(handle, final_targets, final_fetches,\n\u001b[0;32m-> 1152\u001b[0;31m                              feed_dict_tensor, options, run_metadata)\n\u001b[0m\u001b[1;32m   1153\u001b[0m     \u001b[0;32melse\u001b[0m\u001b[0;34m:\u001b[0m\u001b[0;34m\u001b[0m\u001b[0;34m\u001b[0m\u001b[0m\n\u001b[1;32m   1154\u001b[0m       \u001b[0mresults\u001b[0m \u001b[0;34m=\u001b[0m \u001b[0;34m[\u001b[0m\u001b[0;34m]\u001b[0m\u001b[0;34m\u001b[0m\u001b[0;34m\u001b[0m\u001b[0m\n",
            "\u001b[0;32m/usr/local/lib/python3.6/dist-packages/tensorflow/python/client/session.py\u001b[0m in \u001b[0;36m_do_run\u001b[0;34m(self, handle, target_list, fetch_list, feed_dict, options, run_metadata)\u001b[0m\n\u001b[1;32m   1326\u001b[0m     \u001b[0;32mif\u001b[0m \u001b[0mhandle\u001b[0m \u001b[0;32mis\u001b[0m \u001b[0;32mNone\u001b[0m\u001b[0;34m:\u001b[0m\u001b[0;34m\u001b[0m\u001b[0;34m\u001b[0m\u001b[0m\n\u001b[1;32m   1327\u001b[0m       return self._do_call(_run_fn, feeds, fetches, targets, options,\n\u001b[0;32m-> 1328\u001b[0;31m                            run_metadata)\n\u001b[0m\u001b[1;32m   1329\u001b[0m     \u001b[0;32melse\u001b[0m\u001b[0;34m:\u001b[0m\u001b[0;34m\u001b[0m\u001b[0;34m\u001b[0m\u001b[0m\n\u001b[1;32m   1330\u001b[0m       \u001b[0;32mreturn\u001b[0m \u001b[0mself\u001b[0m\u001b[0;34m.\u001b[0m\u001b[0m_do_call\u001b[0m\u001b[0;34m(\u001b[0m\u001b[0m_prun_fn\u001b[0m\u001b[0;34m,\u001b[0m \u001b[0mhandle\u001b[0m\u001b[0;34m,\u001b[0m \u001b[0mfeeds\u001b[0m\u001b[0;34m,\u001b[0m \u001b[0mfetches\u001b[0m\u001b[0;34m)\u001b[0m\u001b[0;34m\u001b[0m\u001b[0;34m\u001b[0m\u001b[0m\n",
            "\u001b[0;32m/usr/local/lib/python3.6/dist-packages/tensorflow/python/client/session.py\u001b[0m in \u001b[0;36m_do_call\u001b[0;34m(self, fn, *args)\u001b[0m\n\u001b[1;32m   1332\u001b[0m   \u001b[0;32mdef\u001b[0m \u001b[0m_do_call\u001b[0m\u001b[0;34m(\u001b[0m\u001b[0mself\u001b[0m\u001b[0;34m,\u001b[0m \u001b[0mfn\u001b[0m\u001b[0;34m,\u001b[0m \u001b[0;34m*\u001b[0m\u001b[0margs\u001b[0m\u001b[0;34m)\u001b[0m\u001b[0;34m:\u001b[0m\u001b[0;34m\u001b[0m\u001b[0;34m\u001b[0m\u001b[0m\n\u001b[1;32m   1333\u001b[0m     \u001b[0;32mtry\u001b[0m\u001b[0;34m:\u001b[0m\u001b[0;34m\u001b[0m\u001b[0;34m\u001b[0m\u001b[0m\n\u001b[0;32m-> 1334\u001b[0;31m       \u001b[0;32mreturn\u001b[0m \u001b[0mfn\u001b[0m\u001b[0;34m(\u001b[0m\u001b[0;34m*\u001b[0m\u001b[0margs\u001b[0m\u001b[0;34m)\u001b[0m\u001b[0;34m\u001b[0m\u001b[0;34m\u001b[0m\u001b[0m\n\u001b[0m\u001b[1;32m   1335\u001b[0m     \u001b[0;32mexcept\u001b[0m \u001b[0merrors\u001b[0m\u001b[0;34m.\u001b[0m\u001b[0mOpError\u001b[0m \u001b[0;32mas\u001b[0m \u001b[0me\u001b[0m\u001b[0;34m:\u001b[0m\u001b[0;34m\u001b[0m\u001b[0;34m\u001b[0m\u001b[0m\n\u001b[1;32m   1336\u001b[0m       \u001b[0mmessage\u001b[0m \u001b[0;34m=\u001b[0m \u001b[0mcompat\u001b[0m\u001b[0;34m.\u001b[0m\u001b[0mas_text\u001b[0m\u001b[0;34m(\u001b[0m\u001b[0me\u001b[0m\u001b[0;34m.\u001b[0m\u001b[0mmessage\u001b[0m\u001b[0;34m)\u001b[0m\u001b[0;34m\u001b[0m\u001b[0;34m\u001b[0m\u001b[0m\n",
            "\u001b[0;32m/usr/local/lib/python3.6/dist-packages/tensorflow/python/client/session.py\u001b[0m in \u001b[0;36m_run_fn\u001b[0;34m(feed_dict, fetch_list, target_list, options, run_metadata)\u001b[0m\n\u001b[1;32m   1317\u001b[0m       \u001b[0mself\u001b[0m\u001b[0;34m.\u001b[0m\u001b[0m_extend_graph\u001b[0m\u001b[0;34m(\u001b[0m\u001b[0;34m)\u001b[0m\u001b[0;34m\u001b[0m\u001b[0;34m\u001b[0m\u001b[0m\n\u001b[1;32m   1318\u001b[0m       return self._call_tf_sessionrun(\n\u001b[0;32m-> 1319\u001b[0;31m           options, feed_dict, fetch_list, target_list, run_metadata)\n\u001b[0m\u001b[1;32m   1320\u001b[0m \u001b[0;34m\u001b[0m\u001b[0m\n\u001b[1;32m   1321\u001b[0m     \u001b[0;32mdef\u001b[0m \u001b[0m_prun_fn\u001b[0m\u001b[0;34m(\u001b[0m\u001b[0mhandle\u001b[0m\u001b[0;34m,\u001b[0m \u001b[0mfeed_dict\u001b[0m\u001b[0;34m,\u001b[0m \u001b[0mfetch_list\u001b[0m\u001b[0;34m)\u001b[0m\u001b[0;34m:\u001b[0m\u001b[0;34m\u001b[0m\u001b[0;34m\u001b[0m\u001b[0m\n",
            "\u001b[0;32m/usr/local/lib/python3.6/dist-packages/tensorflow/python/client/session.py\u001b[0m in \u001b[0;36m_call_tf_sessionrun\u001b[0;34m(self, options, feed_dict, fetch_list, target_list, run_metadata)\u001b[0m\n\u001b[1;32m   1405\u001b[0m     return tf_session.TF_SessionRun_wrapper(\n\u001b[1;32m   1406\u001b[0m         \u001b[0mself\u001b[0m\u001b[0;34m.\u001b[0m\u001b[0m_session\u001b[0m\u001b[0;34m,\u001b[0m \u001b[0moptions\u001b[0m\u001b[0;34m,\u001b[0m \u001b[0mfeed_dict\u001b[0m\u001b[0;34m,\u001b[0m \u001b[0mfetch_list\u001b[0m\u001b[0;34m,\u001b[0m \u001b[0mtarget_list\u001b[0m\u001b[0;34m,\u001b[0m\u001b[0;34m\u001b[0m\u001b[0;34m\u001b[0m\u001b[0m\n\u001b[0;32m-> 1407\u001b[0;31m         run_metadata)\n\u001b[0m\u001b[1;32m   1408\u001b[0m \u001b[0;34m\u001b[0m\u001b[0m\n\u001b[1;32m   1409\u001b[0m   \u001b[0;32mdef\u001b[0m \u001b[0m_call_tf_sessionprun\u001b[0m\u001b[0;34m(\u001b[0m\u001b[0mself\u001b[0m\u001b[0;34m,\u001b[0m \u001b[0mhandle\u001b[0m\u001b[0;34m,\u001b[0m \u001b[0mfeed_dict\u001b[0m\u001b[0;34m,\u001b[0m \u001b[0mfetch_list\u001b[0m\u001b[0;34m)\u001b[0m\u001b[0;34m:\u001b[0m\u001b[0;34m\u001b[0m\u001b[0;34m\u001b[0m\u001b[0m\n",
            "\u001b[0;31mKeyboardInterrupt\u001b[0m: "
          ]
        }
      ]
    },
    {
      "metadata": {
        "id": "3aAFUKBJdHwH",
        "colab_type": "text"
      },
      "cell_type": "markdown",
      "source": [
        "Opimizer: 调节成 Adam Optimizer"
      ]
    },
    {
      "metadata": {
        "id": "bgeEjO5edJNA",
        "colab_type": "code",
        "outputId": "a533e023-98cb-49f8-ecd9-9f9bdc73c341",
        "colab": {
          "base_uri": "https://localhost:8080/",
          "height": 454
        }
      },
      "cell_type": "code",
      "source": [
        "#載入數據集\n",
        "mnist = input_data.read_data_sets(\"MNIST_data\", one_hot = True) \n",
        "\n",
        "#每一個批次的大小\n",
        "batch_size = 100 \n",
        "\n",
        "#計算一共有多少批次\n",
        "n_batch = mnist.train.num_examples // batch_size \n",
        "\n",
        "#定義兩個placeholder，目的在於 train時候透過 feed 傳入 x_data 與 y_data\n",
        "x = tf.placeholder(tf.float32, [None, 784]) \n",
        "y = tf.placeholder(tf.float32, [None, 10]) \n",
        "\n",
        "#建立一個神經網路\n",
        "\n",
        "W = tf.Variable(tf.zeros([784, 10]))\n",
        "b = tf.Variable(tf.zeros([10]))\n",
        "prediction = tf.nn.softmax(tf.matmul(x, W) + b)\n",
        "\n",
        "\n",
        "#二次代價函數 : loss = mean((y - prediction)^2)\n",
        "#loss = tf.reduce_mean(tf.square(y - prediction))\n",
        "\n",
        "#交叉熵代价函数：\n",
        "loss = tf.reduce_mean(tf.nn.softmax_cross_entropy_with_logits(labels = y, logits = prediction))\n",
        "\n",
        "#Gradient desent method \n",
        "gd = tf.train.AdamOptimizer(1e-2)\n",
        "#gd = tf.train.GradientDescentOptimizer(0.2)\n",
        "#最小化 代價函數 (operator) \n",
        "train = gd.minimize(loss)\n",
        "\n",
        "#初始化變數 operator\n",
        "init = tf.global_variables_initializer()\n",
        "\n",
        "\n",
        "#結果存在一個 boolean 的變數中\n",
        "correct_prediction = tf.equal(tf.argmax(y, 1), tf.argmax(prediction, 1)) #argmax 回傳一維張量中最大的值，所在的位置\n",
        "\n",
        "#求準確率\n",
        "accuracy = tf.reduce_mean(tf.cast(correct_prediction, tf.float32)) \n",
        "\n",
        "#開始training\n",
        "with tf.Session() as sess:\n",
        "    sess.run(init)\n",
        "    for epoch in range(21): \n",
        "        for batch in range(n_batch): #每一個 outer loop 疊代 n_batch 個批次\n",
        "            batch_xs, batch_ys = mnist.train.next_batch(batch_size)\n",
        "            feed_dict = {x: batch_xs, y: batch_ys} \n",
        "            sess.run(train, feed_dict)\n",
        "        outer_loop_feed_dict = {x: mnist.test.images, y: mnist.test.labels} #testing data feed dictionary\n",
        "        acc = sess.run(accuracy, outer_loop_feed_dict)\n",
        "        print(\"Iter=\" + str(epoch) + \", Testing Accuracy=\" + str(acc))"
      ],
      "execution_count": 0,
      "outputs": [
        {
          "output_type": "stream",
          "text": [
            "Extracting MNIST_data/train-images-idx3-ubyte.gz\n",
            "Extracting MNIST_data/train-labels-idx1-ubyte.gz\n",
            "Extracting MNIST_data/t10k-images-idx3-ubyte.gz\n",
            "Extracting MNIST_data/t10k-labels-idx1-ubyte.gz\n",
            "Iter=0, Testing Accuracy=0.9204\n",
            "Iter=1, Testing Accuracy=0.928\n",
            "Iter=2, Testing Accuracy=0.9288\n",
            "Iter=3, Testing Accuracy=0.929\n",
            "Iter=4, Testing Accuracy=0.93\n",
            "Iter=5, Testing Accuracy=0.9318\n",
            "Iter=6, Testing Accuracy=0.929\n",
            "Iter=7, Testing Accuracy=0.9298\n",
            "Iter=8, Testing Accuracy=0.931\n",
            "Iter=9, Testing Accuracy=0.9321\n",
            "Iter=10, Testing Accuracy=0.9307\n",
            "Iter=11, Testing Accuracy=0.9283\n",
            "Iter=12, Testing Accuracy=0.9304\n",
            "Iter=13, Testing Accuracy=0.9307\n",
            "Iter=14, Testing Accuracy=0.9311\n",
            "Iter=15, Testing Accuracy=0.9299\n",
            "Iter=16, Testing Accuracy=0.9292\n",
            "Iter=17, Testing Accuracy=0.9311\n",
            "Iter=18, Testing Accuracy=0.9291\n",
            "Iter=19, Testing Accuracy=0.9308\n",
            "Iter=20, Testing Accuracy=0.9323\n"
          ],
          "name": "stdout"
        }
      ]
    },
    {
      "metadata": {
        "id": "rB5Qmg6nhgUF",
        "colab_type": "text"
      },
      "cell_type": "markdown",
      "source": [
        "Tensorboard 使用方法介绍"
      ]
    },
    {
      "metadata": {
        "id": "vhLrMx2-hfoi",
        "colab_type": "code",
        "outputId": "d7fe8986-d122-48f1-82fc-c457bc68f64c",
        "colab": {
          "base_uri": "https://localhost:8080/",
          "height": 104
        }
      },
      "cell_type": "code",
      "source": [
        "#載入數據集\n",
        "mnist = input_data.read_data_sets(\"MNIST_data\", one_hot = True) \n",
        "\n",
        "#每一個批次的大小\n",
        "batch_size = 100 \n",
        "\n",
        "#計算一共有多少批次\n",
        "n_batch = mnist.train.num_examples // batch_size \n",
        "\n",
        "#命名空间\n",
        "with tf.name_scope('input'):\n",
        "    #定義兩個placeholder，目的在於 train時候透過 feed 傳入 x_data 與 y_data\n",
        "    x = tf.placeholder(tf.float32, [None, 784],name='x-input') \n",
        "    y = tf.placeholder(tf.float32, [None, 10],name='y-input') \n",
        "\n",
        "#建立一個神經網路\n",
        "\n",
        "W = tf.Variable(tf.zeros([784, 10]))\n",
        "b = tf.Variable(tf.zeros([10]))\n",
        "prediction = tf.nn.softmax(tf.matmul(x, W) + b)\n",
        "\n",
        "\n",
        "#二次代價函數 : loss = mean((y - prediction)^2)\n",
        "#loss = tf.reduce_mean(tf.square(y - prediction))\n",
        "\n",
        "#交叉熵代价函数：\n",
        "loss = tf.reduce_mean(tf.nn.softmax_cross_entropy_with_logits(labels = y, logits = prediction))\n",
        "\n",
        "#Gradient desent method \n",
        "gd = tf.train.AdamOptimizer(1e-2)\n",
        "#gd = tf.train.GradientDescentOptimizer(0.2)\n",
        "#最小化 代價函數 (operator) \n",
        "train = gd.minimize(loss)\n",
        "\n",
        "#初始化變數 operator\n",
        "init = tf.global_variables_initializer()\n",
        "\n",
        "\n",
        "#結果存在一個 boolean 的變數中\n",
        "correct_prediction = tf.equal(tf.argmax(y, 1), tf.argmax(prediction, 1)) #argmax 回傳一維張量中最大的值，所在的位置\n",
        "\n",
        "#求準確率\n",
        "accuracy = tf.reduce_mean(tf.cast(correct_prediction, tf.float32)) \n",
        "\n",
        "#開始training\n",
        "with tf.Session() as sess:\n",
        "    sess.run(init)\n",
        "    writer = tf.summary.FileWriter('logs/',sess.graph)\n",
        "    for epoch in range(1): \n",
        "        for batch in range(n_batch): #每一個 outer loop 疊代 n_batch 個批次\n",
        "            batch_xs, batch_ys = mnist.train.next_batch(batch_size)\n",
        "            feed_dict = {x: batch_xs, y: batch_ys} \n",
        "            sess.run(train, feed_dict)\n",
        "        outer_loop_feed_dict = {x: mnist.test.images, y: mnist.test.labels} #testing data feed dictionary\n",
        "        acc = sess.run(accuracy, outer_loop_feed_dict)\n",
        "        print(\"Iter=\" + str(epoch) + \", Testing Accuracy=\" + str(acc))"
      ],
      "execution_count": 0,
      "outputs": [
        {
          "output_type": "stream",
          "text": [
            "Extracting MNIST_data/train-images-idx3-ubyte.gz\n",
            "Extracting MNIST_data/train-labels-idx1-ubyte.gz\n",
            "Extracting MNIST_data/t10k-images-idx3-ubyte.gz\n",
            "Extracting MNIST_data/t10k-labels-idx1-ubyte.gz\n",
            "Iter=0, Testing Accuracy=0.9186\n"
          ],
          "name": "stdout"
        }
      ]
    },
    {
      "metadata": {
        "id": "NsNulLXgk0Om",
        "colab_type": "text"
      },
      "cell_type": "markdown",
      "source": [
        "https://stackoverflow.com/questions/47818822/can-i-use-tensorboard-with-google-colab\n",
        "**在colab使用tensorboard的方法：**"
      ]
    },
    {
      "metadata": {
        "id": "W2-LnsHGk_uf",
        "colab_type": "code",
        "outputId": "908262bd-1eff-448a-d3bb-7484c2d11c33",
        "colab": {
          "base_uri": "https://localhost:8080/",
          "height": 104
        }
      },
      "cell_type": "code",
      "source": [
        "!pip install tensorboardcolab\n",
        "from tensorboardcolab import TensorBoardColab, TensorBoardColabCallback\n",
        "\n",
        "\n",
        "tbc = TensorBoardColab()\n",
        "summary_writer = tbc.get_writer()"
      ],
      "execution_count": 0,
      "outputs": [
        {
          "output_type": "stream",
          "text": [
            "Requirement already satisfied: tensorboardcolab in /usr/local/lib/python3.6/dist-packages (0.0.19)\n"
          ],
          "name": "stdout"
        },
        {
          "output_type": "stream",
          "text": [
            "Using TensorFlow backend.\n"
          ],
          "name": "stderr"
        },
        {
          "output_type": "stream",
          "text": [
            "Wait for 8 seconds...\n",
            "TensorBoard link:\n",
            "https://47c63a14.ngrok.io\n"
          ],
          "name": "stdout"
        }
      ]
    },
    {
      "metadata": {
        "id": "GPo4QrnAllEz",
        "colab_type": "code",
        "colab": {}
      },
      "cell_type": "code",
      "source": [
        ""
      ],
      "execution_count": 0,
      "outputs": []
    },
    {
      "metadata": {
        "id": "TpOgsQQhmSoI",
        "colab_type": "code",
        "colab": {}
      },
      "cell_type": "code",
      "source": [
        ""
      ],
      "execution_count": 0,
      "outputs": []
    }
  ]
}