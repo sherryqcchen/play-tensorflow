{
  "nbformat": 4,
  "nbformat_minor": 0,
  "metadata": {
    "colab": {
      "name": "tensorflow_play_Basic",
      "version": "0.3.2",
      "provenance": [],
      "collapsed_sections": [],
      "include_colab_link": true
    },
    "kernelspec": {
      "name": "python3",
      "display_name": "Python 3"
    }
  },
  "cells": [
    {
      "cell_type": "markdown",
      "metadata": {
        "id": "view-in-github",
        "colab_type": "text"
      },
      "source": [
        "<a href=\"https://colab.research.google.com/github/sherryqcchen/play-tensorflow/blob/master/tensorflow_play_Basic.ipynb\" target=\"_parent\"><img src=\"https://colab.research.google.com/assets/colab-badge.svg\" alt=\"Open In Colab\"/></a>"
      ]
    },
    {
      "metadata": {
        "id": "HV31nntC1DhS",
        "colab_type": "code",
        "colab": {}
      },
      "cell_type": "code",
      "source": [
        "import tensorflow as tf"
      ],
      "execution_count": 0,
      "outputs": []
    },
    {
      "metadata": {
        "id": "LmsiDtOT3QuK",
        "colab_type": "text"
      },
      "cell_type": "markdown",
      "source": [
        "创建graph, 启动graph"
      ]
    },
    {
      "metadata": {
        "id": "NZ9zsyVb1Nfv",
        "colab_type": "code",
        "outputId": "672d79cc-b2c0-4104-9a0b-dff44f31d6b8",
        "colab": {
          "base_uri": "https://localhost:8080/",
          "height": 34
        }
      },
      "cell_type": "code",
      "source": [
        "m1 = tf.constant([[3,3]])\n",
        "m2 = tf.constant([[2],[3]])\n",
        "\n",
        "product = tf.matmul(m1,m2)\n",
        "print(product)"
      ],
      "execution_count": 0,
      "outputs": [
        {
          "output_type": "stream",
          "text": [
            "Tensor(\"MatMul:0\", shape=(1, 1), dtype=int32)\n"
          ],
          "name": "stdout"
        }
      ]
    },
    {
      "metadata": {
        "id": "UNM4M04F2YtU",
        "colab_type": "code",
        "outputId": "a024e720-1c0d-4056-ab7f-92cd2fb5e5e6",
        "colab": {
          "base_uri": "https://localhost:8080/",
          "height": 34
        }
      },
      "cell_type": "code",
      "source": [
        "sess = tf.Session()\n",
        "\n",
        "result = sess.run(product)\n",
        "print(result)\n",
        "sess.close()"
      ],
      "execution_count": 0,
      "outputs": [
        {
          "output_type": "stream",
          "text": [
            "[[15]]\n"
          ],
          "name": "stdout"
        }
      ]
    },
    {
      "metadata": {
        "id": "CJKm2C-020mG",
        "colab_type": "code",
        "outputId": "1c56ae5b-3eed-4974-dea8-2e0cd690bf84",
        "colab": {
          "base_uri": "https://localhost:8080/",
          "height": 34
        }
      },
      "cell_type": "code",
      "source": [
        "with tf.Session() as sess:\n",
        "  result = sess.run(product)\n",
        "  print(result)"
      ],
      "execution_count": 0,
      "outputs": [
        {
          "output_type": "stream",
          "text": [
            "[[15]]\n"
          ],
          "name": "stdout"
        }
      ]
    },
    {
      "metadata": {
        "id": "RyfaPasV3J3D",
        "colab_type": "text"
      },
      "cell_type": "markdown",
      "source": [
        "变量"
      ]
    },
    {
      "metadata": {
        "id": "oll2qic_3Ab6",
        "colab_type": "code",
        "outputId": "cd916658-4f6b-4d73-ebb9-9c3ac47da0df",
        "colab": {
          "base_uri": "https://localhost:8080/",
          "height": 52
        }
      },
      "cell_type": "code",
      "source": [
        "x = tf.Variable([1,2])\n",
        "a = tf.constant([3,3])\n",
        "#减法 operation\n",
        "sub = tf.subtract(x,a)\n",
        "#加法operation\n",
        "add = tf.add(x,sub)\n",
        "\n",
        "init = tf.global_variables_initializer()\n",
        "\n",
        "with tf.Session() as sess:\n",
        "  sess.run(init)\n",
        "  print(sess.run(sub))\n",
        "  print(sess.run(add))"
      ],
      "execution_count": 0,
      "outputs": [
        {
          "output_type": "stream",
          "text": [
            "[-2 -1]\n",
            "[-1  1]\n"
          ],
          "name": "stdout"
        }
      ]
    },
    {
      "metadata": {
        "id": "qayTOIvi4-cg",
        "colab_type": "code",
        "outputId": "38bf9ab7-8edf-4ccd-b196-55a2d37583f2",
        "colab": {
          "base_uri": "https://localhost:8080/",
          "height": 122
        }
      },
      "cell_type": "code",
      "source": [
        "state = tf.Variable(0, name='counter')\n",
        "new_value = tf.add(state,1)\n",
        "\n",
        "#赋值op\n",
        "update = tf.assign(state, new_value)\n",
        "\n",
        "#variable init\n",
        "init = tf.global_variables_initializer()\n",
        "\n",
        "with tf.Session() as sess:\n",
        "  sess.run(init)\n",
        "  print(sess.run(state))\n",
        "  for _ in range(5):\n",
        "    sess.run(update)\n",
        "    print(sess.run(state))"
      ],
      "execution_count": 0,
      "outputs": [
        {
          "output_type": "stream",
          "text": [
            "0\n",
            "1\n",
            "2\n",
            "3\n",
            "4\n",
            "5\n"
          ],
          "name": "stdout"
        }
      ]
    },
    {
      "metadata": {
        "id": "VDWrV-Rz8D36",
        "colab_type": "text"
      },
      "cell_type": "markdown",
      "source": [
        "Fetch & Feed"
      ]
    },
    {
      "metadata": {
        "id": "XFSvj-Sk8AAy",
        "colab_type": "code",
        "outputId": "945c1ab0-bb91-4423-8d5b-c523d9856dd7",
        "colab": {
          "base_uri": "https://localhost:8080/",
          "height": 34
        }
      },
      "cell_type": "code",
      "source": [
        "# Fetch : 在session中同时执行多个op\n",
        "input1 = tf.constant(3.0)\n",
        "input2 = tf.constant(6.0)\n",
        "input3 = tf.constant(2.5)\n",
        "\n",
        "add = tf.add(input1, input2)\n",
        "mul = tf.multiply(input3, add)\n",
        "\n",
        "with tf.Session() as sess:\n",
        "    result = sess.run([add, mul]) #Fetch\n",
        "    print(result)"
      ],
      "execution_count": 0,
      "outputs": [
        {
          "output_type": "stream",
          "text": [
            "[9.0, 22.5]\n"
          ],
          "name": "stdout"
        }
      ]
    },
    {
      "metadata": {
        "id": "iCCw0fLO8AR_",
        "colab_type": "code",
        "outputId": "49250070-82b0-4d85-9082-84dc58a0164c",
        "colab": {
          "base_uri": "https://localhost:8080/",
          "height": 34
        }
      },
      "cell_type": "code",
      "source": [
        "# Feed:先计算再赋值\n",
        "\n",
        "#创建占位符\n",
        "input1 = tf.placeholder(tf.float32)\n",
        "input2 = tf.placeholder(tf.float32)\n",
        "output = tf.multiply(input1, input2)\n",
        "\n",
        "with tf.Session() as sess:\n",
        "    \n",
        "    #feed的数据以字典的形式传入op\n",
        "    feed_dict = {input1 : [2.], input2 : [3.0]}\n",
        "    print(sess.run(output, feed_dict))"
      ],
      "execution_count": 0,
      "outputs": [
        {
          "output_type": "stream",
          "text": [
            "[6.]\n"
          ],
          "name": "stdout"
        }
      ]
    },
    {
      "metadata": {
        "id": "0B4kwSew-jcG",
        "colab_type": "text"
      },
      "cell_type": "markdown",
      "source": [
        "Case"
      ]
    },
    {
      "metadata": {
        "id": "8-SL-TQ2-XSW",
        "colab_type": "code",
        "colab": {}
      },
      "cell_type": "code",
      "source": [
        "import numpy as np"
      ],
      "execution_count": 0,
      "outputs": []
    },
    {
      "metadata": {
        "id": "UMC9F1Y9-gzV",
        "colab_type": "code",
        "outputId": "edf46cae-5109-4e84-bf61-a80bbbd677a7",
        "colab": {
          "base_uri": "https://localhost:8080/",
          "height": 209
        }
      },
      "cell_type": "code",
      "source": [
        "#使用numpy 产生100个随机点\n",
        "x_data = np.random.rand(100) \n",
        "y_data = x_data * 0.1 + 0.2\n",
        "\n",
        "#构造线性模型\n",
        "k = tf.Variable(0.0)\n",
        "b = tf.Variable(0.0)\n",
        "y = k*x_data + b\n",
        "\n",
        "#二次代价函数\n",
        "loss = tf.reduce_mean(tf.square(y_data-y))\n",
        "\n",
        "#定义梯度下降法优化器\n",
        "optimizer = tf.train.GradientDescentOptimizer(0.2)  #0.2为学习率\n",
        "#定义最小化代价函数\n",
        "train = optimizer.minimize(loss) #loss 越小越接近真实值\n",
        "\n",
        "#初始化变量\n",
        "init = tf.global_variables_initializer()\n",
        "\n",
        "#优化器不断改变变量k,b的value, loss会不断变小，然后k,b越接近于0.1，0.2\n",
        "with tf.Session() as sess:\n",
        "  sess.run(init)\n",
        "  for step in range(201):\n",
        "    sess.run(train)\n",
        "    if step%20 ==0: #每经过20次打印一下次数，k，b值\n",
        "      print(step,sess.run([k,b])) "
      ],
      "execution_count": 0,
      "outputs": [
        {
          "output_type": "stream",
          "text": [
            "0 [0.049282506, 0.09871309]\n",
            "20 [0.09992583, 0.20003687]\n",
            "40 [0.09995546, 0.20002224]\n",
            "60 [0.099973254, 0.20001335]\n",
            "80 [0.09998394, 0.20000802]\n",
            "100 [0.09999034, 0.20000483]\n",
            "120 [0.09999419, 0.20000291]\n",
            "140 [0.09999651, 0.20000175]\n",
            "160 [0.09999789, 0.20000105]\n",
            "180 [0.099998735, 0.20000064]\n",
            "200 [0.099999234, 0.20000038]\n"
          ],
          "name": "stdout"
        }
      ]
    }
  ]
}